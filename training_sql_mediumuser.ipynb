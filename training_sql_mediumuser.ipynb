{
    "metadata": {
        "kernelspec": {
            "name": "SQL",
            "display_name": "SQL",
            "language": "sql"
        },
        "language_info": {
            "name": "sql",
            "version": ""
        }
    },
    "nbformat_minor": 2,
    "nbformat": 4,
    "cells": [
        {
            "cell_type": "markdown",
            "source": [
                "# Training: SQL (Medium-users)\n",
                "Welcome to the training notebook on using SQL.\n",
                "\n",
                "This notebook is pitched at medium-users who perform more advanced querying operations to retrieve heavily-wrangled data from SQL.\n",
                "\n",
                "# What will this session cover?\n",
                "This session will show you how to do the following things in SQL:\n",
                "\n",
                "1. Data matrix/tidy data principles\n",
                "1. Differences Tables and Views\n",
                "1. Three types of temporary tables\n",
                "     - Local temporary table\n",
                "     - Common-table-expression\n",
                "     - Global temporary table\n",
                "1. Subquering the data\n",
                "1. Ordering records according to their groups by a counter\n",
                "1. Pivoting data from long to wide shape\n",
                "1. Unpivoting data from wide to long shape\n",
                ""
            ],
            "metadata": {
                "azdata_cell_guid": "5106b424-4160-4375-9cbb-3828c940ab34"
            }
        },
        {
            "cell_type": "code",
            "source": [
                "-- Set database to use\r\n",
                "USE [HEFE-AN-DEV];"
            ],
            "metadata": {
                "azdata_cell_guid": "8521f549-cd1e-4403-b5a2-ade42bbde72a"
            },
            "outputs": [],
            "execution_count": 0
        },
        {
            "cell_type": "markdown",
            "source": [
                "# 1. Difference between Table and View\r\n",
                "**Tables** are 'physical' storages of data that you can query from, whereas **Views** are a representation of **Tables**, typically in a different format.\r\n",
                "\r\n",
                "Crucially, **Views** do no contain data, but **Tables** do. Instead, they are always querying a **Table** in the background to show you the data.\r\n",
                "\r\n",
                "> **TIP:** If you are changing the shape of your data in a **Table** and want to capture this permanently, then you should create a **View**. You should not create a **Table** as this will duplicate your data unecessarily and take up more memory in your database. "
            ],
            "metadata": {
                "azdata_cell_guid": "eaca3e75-7812-426b-913c-148078b97791"
            }
        },
        {
            "cell_type": "code",
            "source": [
                "-- template: create a view\r\n",
                "CREATE VIEW [<schema_name>].[vw_<view_name>] AS\r\n",
                "(\r\n",
                "    SELECT \r\n",
                "        ...\r\n",
                ")"
            ],
            "metadata": {
                "azdata_cell_guid": "f803291e-532b-4412-89ba-e935ea364e87"
            },
            "outputs": [],
            "execution_count": 0
        },
        {
            "cell_type": "markdown",
            "source": [
                "# 1. Data matrix/tidy data principles\r\n",
                "It is best practice from an analyst's perspective for tables to be formatted in data matrix/tidy data format. For a table to be formatted in this way, it must adhere to two things:\r\n",
                "- Each variable is a column\r\n",
                "- Each observation is a row\r\n",
                "\r\n",
                "It is best practice in the way that it standardises the way data is organised so the data cleaning process is easier and faster.\r\n",
                "\r\n",
                "Whereas for messy, datasets, you can think of them like this:\r\n",
                "> *Happy families are all alike; every unhappy family is unhappy in its own way* - Leo Tolstoy\r\n",
                "\r\n",
                "From this persepctive, you can imagine that a messy dataset requires some initial upfront cost to understand how it is structured before you can clean it.\r\n",
                "\r\n",
                "For a more thorough and example-laden discussion of tidy data principles, see this paper [here](https://cran.r-project.org/web/packages/tidyr/vignettes/tidy-data.html)\r\n",
                "\r\n",
                "> **TIP:** This principle applies more generally outside of SQL."
            ],
            "metadata": {
                "azdata_cell_guid": "9e1a5d0f-7604-44a0-a952-87256d35af86"
            }
        },
        {
            "cell_type": "code",
            "source": [
                "-- create first table in messy format!\r\n",
                "WITH table_messy_a AS \r\n",
                "(\r\n",
                "    SELECT * \r\n",
                "    FROM \r\n",
                "    (\r\n",
                "        VALUES\r\n",
                "            ('Jane Smith', NULL, 18)\r\n",
                "            ,('Xi Tang', 4, 1)\r\n",
                "            ,('Park Min Woo', 6, 6)\r\n",
                "    ) AS table_sub ([PersonName], [Treatment_a], [Treatment_b])\r\n",
                ")\r\n",
                "SELECT * \r\n",
                "FROM table_messy_a;\r\n",
                "\r\n",
                "-- create second table in messy format!\r\n",
                "WITH table_messy_b AS\r\n",
                "(\r\n",
                "    SELECT *\r\n",
                "    FROM \r\n",
                "    (\r\n",
                "        VALUES\r\n",
                "            ('a', NULL, 4, 6)\r\n",
                "            ,('b', 18, 1, 6)\r\n",
                "    ) AS table_sub ([Treatment], [JaneSmith], [XiTang], [ParkMinWoo])\r\n",
                ")\r\n",
                "SELECT * \r\n",
                "FROM table_messy_b;"
            ],
            "metadata": {
                "azdata_cell_guid": "6f8719c9-a233-42fd-81da-dd40fa4c0c85"
            },
            "outputs": [],
            "execution_count": 4
        },
        {
            "cell_type": "code",
            "source": [
                "-- create above table in tidy format\r\n",
                "WITH table_tidy AS\r\n",
                "(\r\n",
                "    SELECT *\r\n",
                "    FROM\r\n",
                "    (\r\n",
                "        VALUES\r\n",
                "            ('Jane Smith', 'a', NULL)\r\n",
                "            ,('Jane SMith', 'b', 18)\r\n",
                "            ,('Xi Tang', 'a', 4)\r\n",
                "            ,('Xi Tang', 'b', 1)\r\n",
                "            ,('Park Min Woo', 'a', 6)\r\n",
                "            ,('Park Min Woo', 'b', 6)\r\n",
                "    ) AS table_sub ([PersonName], [TreatmentType], [TreatmentValue])\r\n",
                ")\r\n",
                "SELECT *\r\n",
                "FROM table_tidy;"
            ],
            "metadata": {
                "azdata_cell_guid": "2e77bb75-df22-4138-aeca-96777119a3e2"
            },
            "outputs": [],
            "execution_count": 5
        },
        {
            "cell_type": "markdown",
            "source": [
                "*Aside: Whilst **data matrix/tidy data principles** are best practice for analysts, it is not for data architects working in SQL. Best practice for them would be to have tables in **long format**. Such a format enables total flexibility over table structure. This means when a new column needs to be added to a table, the table does not need to be deleted and created again with the new table (including the additional time required to import the data). Instead, such a format enables the additional column to be included as an extra row.* \r\n",
                "\r\n",
                "Further discussion of this is outside the scope of this training session, but if you want to find out more about this, then please read up on **snowflake schema** and **star schema**."
            ],
            "metadata": {
                "azdata_cell_guid": "f2e59ace-da4c-4b66-81dd-af8e75fd54f9"
            }
        },
        {
            "cell_type": "markdown",
            "source": [
                "## EXERCISE: Tidy data principles\r\n",
                "**QUESTION:** Is the [Sales].[SpecialOffer] table in a tidy data format? If it is not in tidy data format, how can you manipulate the dataset so that it is? Please write your answer below."
            ],
            "metadata": {
                "azdata_cell_guid": "0a9068cb-0aff-4099-a47d-8438985aad81"
            }
        },
        {
            "cell_type": "code",
            "source": [
                "-- Please write your answer below"
            ],
            "metadata": {
                "azdata_cell_guid": "61762bad-0577-4178-818a-1bfc63c266bc"
            },
            "outputs": [],
            "execution_count": 0
        }
    ]
}