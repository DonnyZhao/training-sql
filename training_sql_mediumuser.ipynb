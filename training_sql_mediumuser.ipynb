{
    "metadata": {
        "kernelspec": {
            "name": "SQL",
            "display_name": "SQL",
            "language": "sql"
        },
        "language_info": {
            "name": "sql",
            "version": ""
        }
    },
    "nbformat_minor": 2,
    "nbformat": 4,
    "cells": [
        {
            "cell_type": "markdown",
            "source": [
                "# Training: SQL (Medium-users)\n",
                "Welcome to the training notebook on using SQL.\n",
                "\n",
                "This notebook is pitched at medium-users wwho perform more advanced querying operations to retrieve heavily-wrangled data from SQL.\n",
                "\n",
                ""
            ],
            "metadata": {
                "azdata_cell_guid": "5106b424-4160-4375-9cbb-3828c940ab34"
            }
        },
        {
            "cell_type": "code",
            "source": [
                ""
            ],
            "metadata": {
                "azdata_cell_guid": "61762bad-0577-4178-818a-1bfc63c266bc"
            },
            "outputs": [],
            "execution_count": 0
        }
    ]
}