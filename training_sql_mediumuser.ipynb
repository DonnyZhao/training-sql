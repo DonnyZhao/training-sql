{
    "metadata": {
        "kernelspec": {
            "name": "SQL",
            "display_name": "SQL",
            "language": "sql"
        },
        "language_info": {
            "name": "sql",
            "version": ""
        }
    },
    "nbformat_minor": 2,
    "nbformat": 4,
    "cells": [
        {
            "cell_type": "markdown",
            "source": [
                "# Training: SQL (Medium-users)\n",
                "Welcome to the training notebook on using SQL.\n",
                "\n",
                "This notebook is pitched at medium-users who perform more advanced querying operations to retrieve heavily-wrangled data from SQL.\n",
                "\n",
                "# What will this session cover?\n",
                "This session will show you how to do the following things in SQL:\n",
                "\n",
                "1. Data matrix/tidy data principles\n",
                "1. Advanced filtering of data\n",
                "1. Tables vs. Views\n",
                "1. Three types of temporary tables\n",
                "     - Local temporary table\n",
                "     - Common-table-expression\n",
                "     - Global temporary table\n",
                "1. Subqueries\n",
                "1.  Ordering records according to their groups by a counter\n",
                "1. Pivoting data from long to wide shape\n",
                "1. Unpivoting data from wide to long shape\n",
                ""
            ],
            "metadata": {
                "azdata_cell_guid": "5106b424-4160-4375-9cbb-3828c940ab34"
            }
        },
        {
            "cell_type": "code",
            "source": [
                ""
            ],
            "metadata": {
                "azdata_cell_guid": "61762bad-0577-4178-818a-1bfc63c266bc"
            },
            "outputs": [],
            "execution_count": 0
        }
    ]
}