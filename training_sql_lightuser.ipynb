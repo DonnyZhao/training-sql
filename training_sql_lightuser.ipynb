{
    "metadata": {
        "kernelspec": {
            "name": "SQL",
            "display_name": "SQL",
            "language": "sql"
        },
        "language_info": {
            "name": "sql",
            "version": ""
        }
    },
    "nbformat_minor": 2,
    "nbformat": 4,
    "cells": [
        {
            "cell_type": "markdown",
            "source": [
                "# Training: SQL - (Beginners) 👩‍💻\n",
                "Welcome to the training notebook on using SQL.\n",
                "\n",
                "This notebook is pitched at light-uses who have little or no experience of SQL.\n",
                "\n",
                "***\n",
                "\n",
                "## What is SQL? 👹\n",
                "SQL stands for *structured-query-language* and amongst bedroom geeks like myself, is commonly referred to verbally as *'sequel'*, a shorthand for S-Q-L. (Two syllables instead of three). \n",
                "\n",
                "It is mainly used for the following cases:\n",
                "- Effectively storing data (especially at a larger scale)\n",
                "- Efficiently reshaping large-scale data in a format suitable for analysis\n",
                "- Rapidly performing simple computations of large-scale data\n",
                "    + Such as addition, subtraction, multiplication and division \n",
                "\n",
                "It is not so good for:\n",
                "- Customising the formatting of table outputs (use thangs like Excel or R for that) \n",
                "- Creating plots (use thangs like Excel or R for that)\n",
                "- Writing reports (use thangs like Word or R for that)\n",
                "- Nicely drawing maps (use thangs like R for that)\n",
                "    + Technically, can have maps displayed in SQL but they can look basic\n",
                "\n",
                "*Note when we say \"large-scale data\", we mean data that exceeds the amount of in-memory/RAM the computer in which you are doing your analysis has.*\n",
                "\n",
                "\n",
                "***\n",
                "\n",
                "## How do I use SQL? 💃\n",
                "Whereas this training session is being delivered in a **Azure Data Studio** notebook, it is recommended that you do most of your SQL-related work in Microsoft's **SQL Server Management Studio (SSMS)**.\n",
                "\n",
                "This is because SSMS offers a better graphical user interface (GUI) to enable you to easily explore databses, tables, Views, stored procedures etc. whereas Azure Data Studio does not have the same functionality.\n",
                "\n",
                "For instructions on how to open, use and access the right database in SSMS, please refer to this training documentation [here](\\\\vmt1pr-dhfs01\\working\\HEFE-AN-DEV-FS\\SQL-training\\HEFE-SQL-Training\\training.html)\n",
                "\n",
                "The following details will need to be entered to access the data:\n",
                "- Server: **VMT1PR-DHSQL01**\n",
                "- Database: **HEFE-AN-DEV**\n",
                "\n",
                "***\n",
                "\n",
                "## What will this session cover?\n",
                "This session will show you how to do the following things in SQL:\n",
                "1. Basic query\n",
                "1. Filter\n",
                "1. Sort\n",
                "1. Grouping for aggregating\n",
                "1. Join\n",
                "1. Union\n",
                "1. Create columns\n",
                "1. Change column to a different data type\n",
                "1. Conditional if-else statements\n",
                "1. Choosing unique entries in a column"
            ],
            "metadata": {
                "azdata_cell_guid": "6b65da84-c1cb-495f-a421-49cf9266a637"
            }
        },
        {
            "cell_type": "code",
            "source": [
                "/* Set database to query from */\r\n",
                "USE [HEFE-AN-DEV];"
            ],
            "metadata": {
                "azdata_cell_guid": "552e7a7f-57ab-4031-a997-42b46221b582"
            },
            "outputs": [],
            "execution_count": 2
        },
        {
            "cell_type": "markdown",
            "source": [
                "# 1. How do I retrieve data? 👓 \r\n",
                "A basic query in SQL composes of the `SELECT` statement. It enables you to retrueve records from one or more tables.\r\n",
                "\r\n",
                "> **TIP:** Type and execute `SELECT TOP 1000 * FROM <table_name>` to get a feel for what a table *looks* like. Returning only the top 1000 rows will be quicker to load and allows you to briefly see what sort of values are in your chosen table. The `*` here indicates that you want to retrieve **all** columns from the table.\r\n",
                "\r\n",
                ""
            ],
            "metadata": {
                "azdata_cell_guid": "ef1fffb6-8a16-4618-b6af-ade56875f0ac"
            }
        },
        {
            "cell_type": "code",
            "source": [
                "-- Conduct humble select statement\r\n",
                "-- to retrieve records on people's addresses\r\n",
                "SELECT \r\n",
                "    [AddressID]\r\n",
                "    ,[AddressLine1]\r\n",
                "    ,[City]\r\n",
                "    ,[StateProvinceID]\r\n",
                "    ,[PostalCode]\r\n",
                "FROM [Person].[Address];"
            ],
            "metadata": {
                "azdata_cell_guid": "7fc9578a-f771-47bd-bafc-720577541512"
            },
            "outputs": [],
            "execution_count": 3
        },
        {
            "cell_type": "markdown",
            "source": [
                "# 2. How do I retrieve specific data? 👽\r\n",
                "To retrieve/filter for specific records, rather than all records, you will need to use the `WHERE` clause in addition to the `SELECT` statement.\r\n",
                "\r\n",
                "> **USER STORY:** *As an veteran police investigator with a long and decorated track-record of using a range of persuasion techniques and tools to draw information out of criminals, I want to see all the address data for my city, so that I can see where my suspects live.*\r\n",
                "\r\n",
                "> **TIP:** To retrieve records based on a partial piece of text, you can utilise the `LIKE` operator and `%` wildcard. For instance, if you want to look for all cities beginning with \"Phe\", then you type and execute `SELECT * FROM [Person].[Address] WHERE [City] LIKE 'Phe%'`. Alternatively, if you want to look for all cities ending with \"nix\", then type and execute `SELECT * FROM [Person].[Address] WHERE [City] LIKE '%nix'`. Or if you want to look at all cities with \"eoni\" in them, then type and execute `SELECT * FROM [Person].[Address] WHERE [City] LIKE '%eoni%'`."
            ],
            "metadata": {
                "azdata_cell_guid": "26150689-e088-4d5b-8aae-1be2b3bc6c21"
            }
        },
        {
            "cell_type": "code",
            "source": [
                "-- Retrieve all the people's addresses data\r\n",
                "-- who live in the city of 'Pheonix'\r\n",
                "SELECT \r\n",
                "    [AddressID]\r\n",
                "    ,[AddressLine1]\r\n",
                "    ,[City]\r\n",
                "    ,[StateProvinceID]\r\n",
                "    ,[PostalCode]\r\n",
                "FROM [Person].[Address]\r\n",
                "WHERE [City] = 'Phoenix';\r\n",
                "\r\n",
                "-- Retrieve all the people's addresses data\r\n",
                "-- who live in the city of 'Pheonix' or 'Cambridge'\r\n",
                "SELECT \r\n",
                "    [AddressID]\r\n",
                "    ,[AddressLine1]\r\n",
                "    ,[City]\r\n",
                "    ,[StateProvinceID]\r\n",
                "    ,[PostalCode]\r\n",
                "FROM [Person].[Address]\r\n",
                "WHERE [City] IN ('Phoenix', 'Cambridge');\r\n",
                ""
            ],
            "metadata": {
                "azdata_cell_guid": "032bae92-430d-4234-9122-1521abdadb95"
            },
            "outputs": [],
            "execution_count": 4
        },
        {
            "cell_type": "markdown",
            "source": [
                "# 3. How do I arrange the data in a specific order? 🐊\r\n",
                "To retrieve records and organise them in ascending or descending order, you will need to use the `ORDER BY` clause in addition to the `SELECT` statement.\r\n",
                "\r\n",
                "> **USER STORY:** *As an analyst for the central government of a surveillance society, I want to see all the address data for all cities, so I can see who I can focus my attentions on.*"
            ],
            "metadata": {
                "azdata_cell_guid": "ae4ed6e4-9055-4852-8cf7-d0254bf01b32"
            }
        },
        {
            "cell_type": "code",
            "source": [
                "-- Retrieve all the people's addresses data\r\n",
                "-- and sort them by city in ascending order\r\n",
                "SELECT \r\n",
                "    [AddressID]\r\n",
                "    ,[AddressLine1]\r\n",
                "    ,[City]\r\n",
                "    ,[StateProvinceID]\r\n",
                "    ,[PostalCode]\r\n",
                "FROM [Person].[Address]\r\n",
                "ORDER BY [City] ASC;"
            ],
            "metadata": {
                "azdata_cell_guid": "3dd218af-ed37-4b5c-b704-9327707074d4"
            },
            "outputs": [],
            "execution_count": 5
        },
        {
            "cell_type": "markdown",
            "source": [
                "# 4. How do I perform aggregations on grouped variables? 🍹\r\n",
                "To retrive aggregated grouped records, such as a count of all the records belonging to a city, then you will need to combine the `GROUP BY` clause with an aggregation function, `SUM()`, `COUNT()`, `AVERAGE()`, `MEDIAN()`, `MODE()`, `MAX()` or `MIN()` \r\n",
                "\r\n",
                "> **USER STORY:** *As a third-rate hacker with no grudges nor malicious intent, I want to see all the records held for each state and city, so I can see how complete the secret service's individualised data is against population data that's helpfully published by the state.*"
            ],
            "metadata": {
                "azdata_cell_guid": "f5cc2b4d-23ad-42ba-ba86-cc261417caf8"
            }
        },
        {
            "cell_type": "code",
            "source": [
                "-- Retrive a count of all the records belonging to each state and city combination\r\n",
                "SELECT\r\n",
                "    [StateProvinceID]\r\n",
                "    ,[City]\r\n",
                "    ,[CountRecords] = COUNT(*)\r\n",
                "FROM [Person].[Address]\r\n",
                "GROUP BY \r\n",
                "    [StateProvinceID]\r\n",
                "    ,[City];"
            ],
            "metadata": {
                "azdata_cell_guid": "f3f3264f-3810-48d0-b0e0-6dea5c96af03"
            },
            "outputs": [],
            "execution_count": 6
        },
        {
            "cell_type": "markdown",
            "source": [
                "# 5. How do I join multiple tables together? \r\n",
                "To join together multiple tables to bring in additional columns to work on, then you will need to include the `FROM <table_name_one> LEFT/RIGHT/INNER/FULL JOIN <table_name_two> ON <table_name_one_column_for_join> = <table_name_two_column_for_join` \r\n",
                "\r\n",
                "![SQL Join Image](https://www.dofactory.com/Images/sql-joins.png \"SQL Join image\")\r\n",
                "\r\n",
                "> **USER STORY:** *As an \"intelligence\" analyst for a rapidly-growing start-up seeking to aggresively expand into new markets within a highly-competitive industry, I want to see all the address records for each individual and business, so that I can see who owns a business within my industry and take gentle action to improve my company's success in entering the market.*\r\n",
                "\r\n",
                "> **TIP:** What's not often said is that sometimes, when you perform a `LEFT/RIGHT JOIN`, you get more records returned than what you initially had with the *left* or *right* table that you are joining on to - more than what you might expect. This happens because whilst you have a unique row for each column you are joining on to in the *left* or *right* table you are joining on to, you have \"duplicate\" rows in the *right* or *left* table you are joining in. \"Duplicate\" here meaning that you have duplicate rows based on the columns that you are joining on; the rows may be unique if more columns are included."
            ],
            "metadata": {
                "azdata_cell_guid": "d6ea9a14-70e9-4f94-b5ed-e43f5a9c3e6e"
            }
        },
        {
            "cell_type": "code",
            "source": [
                "-- Retrieve all records of people's addresses alongside their business addresses\r\n",
                "SELECT \r\n",
                "    table_address.[AddressID]\r\n",
                "    ,table_address.[AddressLine1]\r\n",
                "    ,table_address.[City]\r\n",
                "    ,table_address.[StateProvinceID]\r\n",
                "    ,table_address.[PostalCode]\r\n",
                "    ,table_business.[BusinessEntityID]\r\n",
                "    ,table_business.[AddressTypeID]\r\n",
                "FROM [Person].[Address] AS table_address\r\n",
                "LEFT JOIN [Person].[BusinessEntityAddress] AS table_business\r\n",
                "    ON table_address.[AddressID] = table_business.[AddressID];"
            ],
            "metadata": {
                "azdata_cell_guid": "f51704a0-ef31-425a-a872-7c665dd865b7"
            },
            "outputs": [],
            "execution_count": 7
        },
        {
            "cell_type": "markdown",
            "source": [
                "# 6. How do I attach multiple tables together?\r\n",
                "To append mutilple tables to increase the number of rows to work on, then you'll need to include the `UNION` operator between several `SELECT <column_name_one>...<column_name_n> FROM <table_name_i>` statements.\r\n",
                "\r\n",
                ">**USER STORY:** *As a grizzly consultant for the governors of Phoenix and New York, I want to see all the address records from an address table on the state \"Phoenix\" and an address table on the state of \"New York\", so that I can legitmise my falsified population growth forecasts of these two states and thereby improve my profile to reach new clients and swindle money from them.*\r\n",
                "\r\n",
                ">**NOTE:** You can only `UNION` tables that have the same columns.\r\n",
                "\r\n",
                "> **TIP:** `UNION` only brings together the different rows between the several tables whereas `UNION ALL` brings together all rows between the several tables, including duplicate ones."
            ],
            "metadata": {
                "azdata_cell_guid": "97503f8e-d07f-4793-b993-e33e4a35c38c"
            }
        },
        {
            "cell_type": "code",
            "source": [
                "-- Retrieve all the people's addresses data\r\n",
                "-- who live in the city of 'Pheonix' and 'New York'\r\n",
                "SELECT \r\n",
                "    [AddressID]\r\n",
                "    ,[AddressLine1]\r\n",
                "    ,[City]\r\n",
                "    ,[StateProvinceID]\r\n",
                "    ,[PostalCode]\r\n",
                "FROM [Person].[Address]\r\n",
                "WHERE [City] = 'Phoenix'\r\n",
                "UNION\r\n",
                "SELECT \r\n",
                "    [AddressID]\r\n",
                "    ,[AddressLine1]\r\n",
                "    ,[City]\r\n",
                "    ,[StateProvinceID]\r\n",
                "    ,[PostalCode]\r\n",
                "FROM [Person].[Address]\r\n",
                "WHERE [City] = 'New York';"
            ],
            "metadata": {
                "azdata_cell_guid": "467b23ce-428d-40c1-b76e-2cd4820d90cf"
            },
            "outputs": [],
            "execution_count": 8
        },
        {
            "cell_type": "markdown",
            "source": [
                "## EXERCISE: `UNION`-ing tables together\r\n",
                "**Question:** Based on what we covered so far, can you think of an alternative way of writing the above query in (6.)? Please write your answer in the cell below."
            ],
            "metadata": {
                "azdata_cell_guid": "56a09f99-7dce-4fe3-a113-9718727fe7fa"
            }
        },
        {
            "cell_type": "code",
            "source": [
                "-- Please write your qeury here"
            ],
            "metadata": {
                "azdata_cell_guid": "fba7ecd8-86db-4195-bed4-5792530114f6"
            },
            "outputs": [],
            "execution_count": 0
        },
        {
            "cell_type": "markdown",
            "source": [
                "# 7.0 Is there a way to create my own column to the data?\r\n",
                "\r\n",
                "To create an additional column to your queried table, you write the name of the new column within the list of columns specified in your `SELECT` statement.\r\n",
                "\r\n",
                "> **USER STORY:** *As a business analyst with questionable morals for the State Department of Defence, I want to include some contextual information that I know from experience in working with the state of Phoenix, so that senior military strategists can focus recruitment efforts for the next war to plunder another nation's natural resources.*"
            ],
            "metadata": {
                "azdata_cell_guid": "eb4424bb-328a-4eb7-8ef5-2e9357948e9e"
            }
        },
        {
            "cell_type": "code",
            "source": [
                "-- Include contextual information as extra column\r\n",
                "SELECT \r\n",
                "    [AddressID]\r\n",
                "    ,[AddressLine1]\r\n",
                "    ,[City]\r\n",
                "    ,[StateProvinceID]\r\n",
                "    ,[Context] = 'Renowned for high-end spa resorts, Jack Nicklaus–designed golf courses and vibrant nightclubs'\r\n",
                "    ,[PostalCode]\r\n",
                "FROM [Person].[Address]\r\n",
                "WHERE [City] = 'Phoenix';"
            ],
            "metadata": {
                "azdata_cell_guid": "cba27299-1fc5-461c-b8fb-2a05b2e1e628"
            },
            "outputs": [],
            "execution_count": 10
        },
        {
            "cell_type": "markdown",
            "source": [
                "# 7.1 Can I change the data type of my data?\r\n",
                "You may need to change the data type of columns in your data to perform certain operations such as:\r\n",
                "\r\n",
                "1. Changing to a `INT` or `FLOAT` datatype so you can use aggregation functions like `SUM` and `AVERAGE`.\r\n",
                "1. Changing to a `VARCHAR(n)` or `NVCARCHAR(n)` datatype so you can concatenate with other string/text columns.\r\n",
                "1. Changing the two columns that you're joining two tables together to the same datatype so they can join!\r\n",
                "\r\n",
                "To change the data type, you will need to build on (7.0) by creating or overwriting an existing column and utilise the `CAST()` command.\r\n",
                "\r\n",
                "> **USER STORY:** *As the Director of Strategy for a shady financial institution with clients of questionable standing, I want to see all credit cards with similar numbers recorded in our system to identify whose cards need replacing so they can evade the regulatory authorities.*"
            ],
            "metadata": {
                "azdata_cell_guid": "4414d966-aaf9-475b-84d2-3aba0df1771f"
            }
        },
        {
            "cell_type": "code",
            "source": [
                "-- Retrieve records of all credit card numbers that are similar\r\n",
                "-- where we mean similar by not having zero's at the front.\r\n",
                "-- Currently, the column of interest is treated as a nvarchar one,\r\n",
                "-- so '093455' is valid.\r\n",
                "-- By converting the column to an int one, it will then become '93455'.\r\n",
                "\r\n",
                "SELECT \r\n",
                "    [CardType]\r\n",
                "    ,[CardNumber] = CAST ([CardNumber] AS BIGINT)\r\n",
                "    ,[ExpMonth]\r\n",
                "    ,[ExpYear]\r\n",
                "FROM [Sales].[CreditCard];"
            ],
            "metadata": {
                "azdata_cell_guid": "7312bb2f-1bb8-4e75-a488-181060574401"
            },
            "outputs": [],
            "execution_count": 12
        },
        {
            "cell_type": "markdown",
            "source": [
                "## EXERCISE: `CAST`-ing column to a specified datatype\r\n",
                "**Question:** Using the `GETDATE()` function to get today's date and time, can you cast this to only get the date instead? Please write your answer in the cell below. \r\n",
                "\r\n",
                "**Note:** *A `SELECT` statement need not always end with `FROM <table_name>`.*"
            ],
            "metadata": {
                "azdata_cell_guid": "0b96593c-0d0a-4e3a-918c-eb388d451faf"
            }
        },
        {
            "cell_type": "code",
            "source": [
                "-- Please write your query here"
            ],
            "metadata": {
                "azdata_cell_guid": "b1b246a4-bfea-4080-b4e6-4dbf1a9d081e"
            },
            "outputs": [],
            "execution_count": 0
        },
        {
            "cell_type": "markdown",
            "source": [
                "# 7.2 How can I return a value based on another value in a different column?\r\n",
                "If you ever wanted to do the equivalent of an *if-else* statement, then the SQL equivalent is `[new_column_name] = CASE WHEN ... THEN ... END`. This builds on (7.0) as we need to create a new column.\r\n",
                "\r\n",
                "> **USER STORY:** *As a pencil-pusher for a large, faceless multinational corporation that sells a variety of wares, I want to see what the currency rates are so I can convert the value of our sales into our home currency.*\r\n",
                "\r\n",
                "> **RANT:** Really long and winding `CASE WHEN` statements are often undesirably seen in SQL code that is attempting to do what a lookup table is meant to do. Don't do a long and winding `CASE WHEN` statement, they're ugly, and are the equivalent of nested *ifelse()* statements in Excel. Please, don't. One's eyes will bleed. \r\n",
                ""
            ],
            "metadata": {
                "azdata_cell_guid": "2197a7c5-5f08-4a61-8e46-8e801d2eaae3"
            }
        },
        {
            "cell_type": "code",
            "source": [
                "-- first and bad attempt to do a lookup\r\n",
                "-- from currency code to currnecy name\r\n",
                "SELECT \r\n",
                "    [FromCurrencyCode]\r\n",
                "    ,[FromCurrencyName] = CASE\r\n",
                "        WHEN [FromCurrencyCode] = 'AED' THEN 'Emirati Dirham'\r\n",
                "        WHEN [FromCUrrencyCode] = 'AFA' THEN 'Afghani'\r\n",
                "        WHEN [FromCurrencyCode] = 'ALL' THEN 'Lek'\r\n",
                "        -- and so on....damn, this is really tedious to type out\r\n",
                "        ELSE NULL\r\n",
                "        END\r\n",
                "    ,[ToCurrencyCode]\r\n",
                "    ,[AverageRate]\r\n",
                "    ,[EndOfDayRate]\r\n",
                "FROM [Sales].[CurrencyRate];"
            ],
            "metadata": {
                "azdata_cell_guid": "9526466c-db47-471c-ac58-c5de87f47b2f"
            },
            "outputs": [],
            "execution_count": 13
        },
        {
            "cell_type": "markdown",
            "source": [
                "## EXERCISE: Avoiding long and winding `CASE WHEN` statements\r\n",
                "**Question:** Using the `[Sales].[Currency]` as your look-up table, find a way to do what you aim to do in (7.2) but without using `CASE WHEN` statements. Please write your answer in the cell below.\r\n",
                "\r\n",
                "**Hint:** You might want refer to what we covered earlier.\r\n",
                ""
            ],
            "metadata": {
                "azdata_cell_guid": "19213a35-8787-4680-bbdc-46e69a3b840a"
            }
        },
        {
            "cell_type": "code",
            "source": [
                "-- Please write your query here"
            ],
            "metadata": {
                "azdata_cell_guid": "3c4ebc2c-f90c-4ab5-9d7b-21ebf3fc905e"
            },
            "outputs": [],
            "execution_count": 0
        },
        {
            "cell_type": "markdown",
            "source": [
                "## EXERCISE: `CAST`-ing columns so they can be concantenated\r\n",
                "**Question:** Using the `[ExpMonth]` and `[ExpYear]` columns, and assuming all expriation dates start on the first of each month, *e.g. 2018/05/01*, can you create a new column that has the full date of expiry, ensuring that this is of the date datatype? Please write your answer in the cell below. \r\n",
                "\r\n",
                "**Hint:** This exercise brings together the concepts learnt so far of:\r\n",
                "- Creating a new column\r\n",
                "- Casting columns to the right datatype\r\n",
                "- Using conditional if/else (`CASE WHEN`) statements\r\n",
                "\r\n",
                "You will also need to search how to concatenate columns and may possibly need to use the `LENGTH()` function.\r\n",
                "\r\n",
                "**Note:** This is actually quite a difficult exercise."
            ],
            "metadata": {
                "azdata_cell_guid": "af9613dc-9f57-4078-a452-ba5ec3b2e9d5"
            }
        },
        {
            "cell_type": "code",
            "source": [
                "-- Please write your query here"
            ],
            "metadata": {
                "azdata_cell_guid": "c2f69e36-561a-4a59-af5e-ed944f5f4868"
            },
            "outputs": [],
            "execution_count": 0
        },
        {
            "cell_type": "markdown",
            "source": [
                "# 8. What can I do to only return unique values in a column?\r\n",
                "Sometimes, you are only interested in seeing all the unique values in a column, such as to understand what are all the possible values that column can take. To do so, use the `DISTINCT` command.\r\n",
                "\r\n",
                "**USE CASE:** *As Head of Sales of a socially-irresponsible, run-of-the-mill global coffee chain that sells bland coffee and even blander customer service,  I want to see all the types of discounts we offer so that I can come up with new sale strategies that mask the quality of our products to improve sales.*"
            ],
            "metadata": {
                "azdata_cell_guid": "df872eae-0574-4983-8347-9f2766f0323e"
            }
        },
        {
            "cell_type": "code",
            "source": [
                "-- retrive all unique types of discounts offered\r\n",
                "SELECT DISTINCT [Description]\r\n",
                "FROM [Sales].[SpecialOffer];"
            ],
            "metadata": {
                "azdata_cell_guid": "c305e2db-5ad1-4bed-b58c-f8e1a0e9d5b9"
            },
            "outputs": [],
            "execution_count": 14
        }
    ]
}