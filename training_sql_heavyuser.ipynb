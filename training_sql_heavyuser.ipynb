{
    "metadata": {
        "kernelspec": {
            "name": "SQL",
            "display_name": "SQL",
            "language": "sql"
        },
        "language_info": {
            "name": "sql",
            "version": ""
        }
    },
    "nbformat_minor": 2,
    "nbformat": 4,
    "cells": [
        {
            "cell_type": "markdown",
            "source": [
                "# Training: SQL (Heavy-users) 💪\n",
                "Welcome to the training notebook on using SQL.\n",
                "\n",
                "\n",
                "This notebook is pitched at heavy users who perform data management rples to store objects permanently in SQL.\n",
                "\n",
                "![SQL Futurama meme](https://live.staticflickr.com/65535/49188193126_3b991de60e_z.jpg \"SQL Futurama meme\") \n",
                "\n",
                "# What will this session cover? 👂\n",
                "This session will show you how to do the following things in SQL:\n",
                "1. Dynmaic SQL querying\n",
                "1. Informal guide to when you should permanently store SQL objects\n",
                "1. Creating and updating tables\n",
                "1. Importing data into SQL\n",
                "1. Indexing columns to improve querying speeds\n",
                "1. Adding constraints to columns to restrict entries that can go inside it\n",
                "1. Using stored procedures and functions to do more bespoke operations\n",
                "1. Database triggers\n",
                "1. Version-controlling databases"
            ],
            "metadata": {
                "azdata_cell_guid": "a1525136-1fc3-4c51-85b0-ac160d7ff3ff"
            }
        },
        {
            "cell_type": "code",
            "source": [
                "-- Set database to use\r\n",
                "USE [HEFE-AN-DEV]"
            ],
            "metadata": {
                "azdata_cell_guid": "39a29ac5-eaa2-4825-87f9-a27728d31183"
            },
            "outputs": [],
            "execution_count": 4
        },
        {
            "cell_type": "markdown",
            "source": [
                "# 1. Dynamic SQL querying\r\n",
                "This is essentially SQL code that writes SQL code. It's particularly useful when you want to parameterise your SQL statements with an input variable. \r\n",
                "\r\n",
                "To be able to employ dynamic SQL querying, you'll need to know how to:\r\n",
                "1. Create a variable in SQL and assign it a value\r\n",
                "1. Create a SQL query which takes the variable you created\r\n",
                "1. Execute the SQL query\r\n",
                "\r\n",
                "The core idea behind dynamic SQL querying lies in being able to write your query as a string/varchar/text, and then execute/run the text as if it is a SQL query.\r\n",
                "\r\n",
                "> **USER STORY:** *As a lazy-ass, punk-ass, funk-ass SQL version of NAS, I want to quickly run a SQL statement to quickly count all the number of rows in several tables in my database rather than write the same* `SELECT COUNT(*) FROM <*table_name*>` *statement several times but with different table names, so I can get back to making my new coding mixtape.*\r\n",
                "\r\n",
                ""
            ],
            "metadata": {
                "azdata_cell_guid": "71db0edd-4215-4b60-b85e-590261e4b8f3"
            }
        },
        {
            "cell_type": "code",
            "source": [
                "-- create and set variable/parameters\r\n",
                "DECLARE @name_schema AS NVARCHAR(25) = 'Production'\r\n",
                "DECLARE @name_table AS NVARCHAR(50) = 'Product'\r\n",
                "\r\n",
                "-- write dynamic SQL as string/text\r\n",
                "DECLARE @query AS NVARCHAR(MAX) = \r\n",
                "'\r\n",
                "    SELECT COUNT(*)\r\n",
                "    FROM [' + @name_schema + '].[' + @name_table + '];\r\n",
                "' \r\n",
                "\r\n",
                "-- print query to see what SQL is written\r\n",
                "PRINT @query\r\n",
                "\r\n",
                "-- excute dynamic SQL being written as string/text\r\n",
                "EXEC sp_executesql @query"
            ],
            "metadata": {
                "azdata_cell_guid": "fd3e44fa-e8d0-45ae-98cb-22cf1dbd922d"
            },
            "outputs": [],
            "execution_count": 9
        },
        {
            "cell_type": "markdown",
            "source": [
                "## EXERCISE: Dynamic SQL querying #1\r\n",
                "**Question:** Is there an even more efficient way to perform the same task in (1.) without having to use dynamic SQL querying?\r\n",
                "\r\n",
                "**Hint:** Consider using System Tables belonging to the `[INFORMATION_SCHEMA]`.\r\n",
                "\r\n",
                "**Note:** This exercise introduces you to some very useful tables that exist in the background which will be extremely useful for data management tasks."
            ],
            "metadata": {
                "azdata_cell_guid": "5817afee-8c6d-49d0-b967-05dd245168f3"
            }
        },
        {
            "cell_type": "code",
            "source": [
                "-- please write your answer here"
            ],
            "metadata": {
                "azdata_cell_guid": "85468e8e-cf2d-4313-bda4-65e96a148488"
            },
            "outputs": [],
            "execution_count": 0
        },
        {
            "cell_type": "markdown",
            "source": [
                "## EXERCISE: Dynamic SQL querying #2\r\n",
                "**Question:** Recall in the *Training: SQL (Medium-user)* notebook the instructions for how you pivot tables in SQL. Namely, how you have to explicitly know and code the rows in the column you want to pivot to. This can be tedious, especially when you have many unique rows to pivot to. There is a way to pivot without explicitly specifying the rows you want to pivot to columns. Can you write a query that does this?\r\n",
                "\r\n",
                "**Hint:** This exercise demonstrates the power of dynamic querying."
            ],
            "metadata": {
                "azdata_cell_guid": "6e90a391-50d2-4eeb-8b0b-479281a13cdd"
            }
        },
        {
            "cell_type": "markdown",
            "source": [
                "# 2. Informal guide to what you should permanently store in SQL"
            ],
            "metadata": {
                "azdata_cell_guid": "3d1c9f51-2234-4b2d-b85b-9ca073c91df9"
            }
        }
    ]
}